{
 "cells": [
  {
   "cell_type": "markdown",
   "metadata": {},
   "source": [
    "# Laboratorio: Análisis de Regresión\n",
    "\n",
    "### Antes de empezar:\n",
    "\n",
    "* Lee el archivo README.md\n",
    "* Comenta tanto como puedas y utiliza los recursos (archivo README.md)\n",
    "\n",
    "¡Feliz aprendizaje!\n",
    "\n",
    "## Desafío 1\n",
    "Trabajo en un bootcamp de programación, y he desarrollado una teoría de que cuanto más jóvenes son mis estudiantes, más a menudo llegan tarde a clase. Para probar mi hipótesis, he recopilado algunos datos en la siguiente tabla:\n",
    "\n",
    "| StudentID | Edad | Retrasos |\n",
    "|--------|-----|------------|\n",
    "| 1      | 17  | 10         |\n",
    "| 2      | 51  | 1          |\n",
    "| 3      | 27  | 5          |\n",
    "| 4      | 21  | 9         |\n",
    "| 5      | 36  |  4         |\n",
    "| 6      | 48  |  2         |\n",
    "| 7      | 19  |  9         |\n",
    "| 8      | 26  | 6          |\n",
    "| 9      | 54  |  0         |\n",
    "| 10     | 30  |  3         |\n"
   ]
  },
  {
   "cell_type": "code",
   "execution_count": null,
   "metadata": {},
   "outputs": [],
   "source": [
    "import pandas as pd\n",
    "import numpy as np\n",
    "import plotly.express as px\n",
    "import statsmodels.formula.api as smf\n",
    "from sklearn.model_selection import train_test_split\n",
    "from sklearn.linear_model import LinearRegression\n",
    "from sklearn.metrics import mean_squared_error, r2_score\n",
    "import statsmodels.api as sm\n",
    "import matplotlib.pyplot as plt\n",
    "import seaborn as sns"
   ]
  },
  {
   "cell_type": "markdown",
   "metadata": {},
   "source": [
    "Utiliza este comando para crear un dataframe con los datos proporcionados en la tabla.\n",
    "~~~~\n",
    "student_data = pd.DataFrame({'Edad': [17,51,27,21,36,48,19,26,54,30], 'Retrasos': [10,1,5,9,4,2,9,6,0,3]})\n",
    "~~~~"
   ]
  },
  {
   "cell_type": "code",
   "execution_count": null,
   "metadata": {},
   "outputs": [],
   "source": [
    "# Your code here. \n",
    "student_data = pd.DataFrame({'Edad': [17,51,27,21,36,48,19,26,54,30], 'Retrasos': [10,1,5,9,4,2,9,6,0,3]})\n",
    "student_data"
   ]
  },
  {
   "cell_type": "markdown",
   "metadata": {},
   "source": [
    "Dibuja un diagrama de dispersión (scatter plot) para los datos."
   ]
  },
  {
   "cell_type": "code",
   "execution_count": null,
   "metadata": {},
   "outputs": [],
   "source": [
    "# Your code here\n",
    "sns.scatterplot(x=\"Edad\", y=\"Retrasos\", data=student_data)"
   ]
  },
  {
   "cell_type": "markdown",
   "metadata": {},
   "source": [
    "¿Ves alguna tendencia? ¿Puedes hacer alguna hipótesis sobre la relación entre la edad y el número de retrasos?"
   ]
  },
  {
   "cell_type": "markdown",
   "metadata": {},
   "source": [
    "**RESPUESTA:** Se ve una relación más o menos inversamente lineal entre la edad y el número de retrasos: a mayor edad, menos retrasos."
   ]
  },
  {
   "cell_type": "markdown",
   "metadata": {},
   "source": [
    "Calcula la covarianza y la correlación de las variables en tu gráfico. ¿Cuál es la diferencia entre estas dos medidas? Compara sus valores. ¿Qué te indican en este caso? Agrega tus respuestas como comentarios después de tu código."
   ]
  },
  {
   "cell_type": "code",
   "execution_count": null,
   "metadata": {},
   "outputs": [],
   "source": [
    "# your code here\n",
    "student_data.cov()"
   ]
  },
  {
   "cell_type": "code",
   "execution_count": null,
   "metadata": {},
   "outputs": [],
   "source": [
    "student_data.corr()"
   ]
  },
  {
   "cell_type": "code",
   "execution_count": null,
   "metadata": {},
   "outputs": [],
   "source": [
    "covarianza = student_data.cov().iloc[0, 1]\n",
    "correlacion = student_data.corr().iloc[0, 1]\n",
    "\n",
    "print(f\"Covarianza: {covarianza}\")\n",
    "print(f\"Correlación: {correlacion}\")"
   ]
  },
  {
   "cell_type": "markdown",
   "metadata": {},
   "source": [
    "Construye un modelo de regresión para estos datos. ¿Cuál será tu variable de resultado? ¿Qué tipo de regresión estás utilizando? Agrega tus respuestas como comentarios después de tu código."
   ]
  },
  {
   "cell_type": "code",
   "execution_count": null,
   "metadata": {},
   "outputs": [],
   "source": [
    "# your explanation here\n",
    "X = student_data.Edad.values.reshape(-1, 1)\n",
    "y = student_data.Retrasos.values\n",
    "\n",
    "plt.plot(X, y, \"o\", alpha=.5)"
   ]
  },
  {
   "cell_type": "code",
   "execution_count": null,
   "metadata": {},
   "outputs": [],
   "source": [
    "# Modelo\n",
    "X_train, X_test, y_train, y_test = train_test_split(X, y, test_size=.2)\n",
    "\n",
    "# Check train and test sizes\n",
    "#print(X_train.shape, X_test.shape, y_train.shape, y_test.shape)\n",
    "print(X.shape, X_train.shape, X_test.shape)\n",
    "print(y.shape, y_train.shape, y_test.shape)"
   ]
  },
  {
   "cell_type": "code",
   "execution_count": null,
   "metadata": {},
   "outputs": [],
   "source": [
    "# Create the Linear Regression estimator\n",
    "lm = LinearRegression()\n",
    "\n",
    "# Perform the fitting\n",
    "lm.fit(X_train, y_train)\n",
    "\n",
    "# Print coefs\n",
    "print(lm.intercept_, lm.coef_)\n",
    "print()\n",
    "print(f'Utilizo un modelo de regresión lineal, de la librería scikit-learn, y obtengo una variable de {lm.coef_} y una constante de {lm.intercept_}')"
   ]
  },
  {
   "cell_type": "markdown",
   "metadata": {},
   "source": [
    "Grafica tu modelo de regresión en tu diagrama de dispersión."
   ]
  },
  {
   "cell_type": "code",
   "execution_count": null,
   "metadata": {},
   "outputs": [],
   "source": [
    "# Your code here.\n",
    "# Define xmin xmax for the model:\n",
    "xmin, xmax = round(X.min()), round(X.max())\n",
    "\n",
    "x_model = np.arange(xmin, xmax+1)\n",
    "y_model=[lm.intercept_+lm.coef_*x for x in x_model] # np.arange returns evenly spaced values within a given interval.\n",
    "\n",
    "plt.plot(X_train, y_train, \"o\", alpha=0.5, label=\"train\") # alpha, transparency value, between 0 (transparent) and 1 (opaque).\n",
    "plt.plot(X_test, y_test, \"o\", alpha=0.5, label=\"test\") # alpha, transparency value, between 0 (transparent) and 1 (opaque).\n",
    "plt.plot(x_model, y_model,'r'); \n",
    "\n",
    "plt.legend()\n",
    "plt.show()\n",
    "# The red line gives the predicted values of this model"
   ]
  },
  {
   "cell_type": "markdown",
   "metadata": {},
   "source": [
    "Interpreta los resultados de tu modelo. ¿Qué conclusiones puedes sacar de tu modelo y qué tan confiado estás en estas conclusiones? ¿Podemos decir que la edad es un buen predictor de la tardanza? Agrega tus respuestas como comentarios después de tu código."
   ]
  },
  {
   "cell_type": "markdown",
   "metadata": {},
   "source": [
    "**RESPUESTA:** La edad será un buen predictor para personas más mayores (i.e. los puntos quedan más cerca de la recta). No será tan bueno para personas más jovenes donde el error de predicción será mayor (los puntos reales están más alejados del modelo de regresión)."
   ]
  },
  {
   "cell_type": "markdown",
   "metadata": {},
   "source": [
    "## Desafío 2\n",
    "Para la segunda parte de este laboratorio, utilizaremos el conjunto de datos vehicles.csv. Puedes encontrar una copia del conjunto de datos en la carpeta de GitHub. Este conjunto de datos incluye variables relacionadas con las características de los vehículos, incluyendo el modelo, la marca y los estándares de eficiencia energética, así como las emisiones de CO2 de cada coche. Como se discutió en clase, el objetivo de este ejercicio es predecir las emisiones de CO2 de los vehículos basándose en varias variables independientes."
   ]
  },
  {
   "cell_type": "code",
   "execution_count": null,
   "metadata": {},
   "outputs": [],
   "source": [
    "# Import any libraries you may need & the data\n",
    "vehicles = pd.read_csv(\"../vehicles.csv\")\n",
    "vehicles"
   ]
  },
  {
   "cell_type": "markdown",
   "metadata": {},
   "source": [
    "Vamos a utilizar las siguientes variables para nuestro análisis: Año, Cilindros, Barriles de Combustible/Año, MPG Combinado, y Costo de Combustible/Año. Utilizaremos 'Emisiones de CO2 Gramos/Milla' como nuestra variable de resultado.\n",
    "\n",
    "Calcula las correlaciones entre cada una de estas variables y el resultado. ¿Cuál variable crees que será la más importante para determinar las emisiones de CO2? ¿Cuál proporciona la menor cantidad de información útil para determinar las emisiones de CO2? Agrega tus respuestas como comentarios después de tu código."
   ]
  },
  {
   "cell_type": "code",
   "execution_count": null,
   "metadata": {},
   "outputs": [],
   "source": [
    "# Your code here.\n",
    "subset = ['Year','Cylinders','Fuel Barrels/Year','City MPG','Fuel Cost/Year','CO2 Emission Grams/Mile']\n",
    "ss_vehicles = vehicles[subset]\n",
    "ss_vehicles"
   ]
  },
  {
   "cell_type": "code",
   "execution_count": null,
   "metadata": {},
   "outputs": [],
   "source": [
    "ss_vehicles.corr()"
   ]
  },
  {
   "cell_type": "markdown",
   "metadata": {},
   "source": [
    "**RESPUESTA:** El numero de barriles/año, en primer lugar, y el coste del combustible parecen tener mucha relación con las emisiones de CO2. Por otro lado, de todas las variables, el año parece ser el que menor efecto tiene en las emisiones."
   ]
  },
  {
   "cell_type": "markdown",
   "metadata": {},
   "source": [
    "Construye un modelo de regresión para estos datos. ¿Qué tipo de regresión estás utilizando? Agrega tus respuestas como comentarios después de tu código."
   ]
  },
  {
   "cell_type": "code",
   "execution_count": null,
   "metadata": {},
   "outputs": [],
   "source": [
    "# Your code here.\n",
    "# Decidir variable que queremos predecir\n",
    "X = ss_vehicles[['Year','Cylinders','Fuel Barrels/Year','City MPG','Fuel Cost/Year']].values.reshape(-1, 5)\n",
    "y = ss_vehicles[['CO2 Emission Grams/Mile']].values\n",
    "\n",
    "plt.plot(X, y, \"o\", alpha=.5)"
   ]
  },
  {
   "cell_type": "code",
   "execution_count": null,
   "metadata": {},
   "outputs": [],
   "source": [
    "# Dividir datos en conjuntos de entrenamiento y prueba\n",
    "X_train, X_test, y_train, y_test = train_test_split(X, y, test_size=.2)\n",
    "print(X_train.shape, X_test.shape, y_train.shape, y_test.shape)"
   ]
  },
  {
   "cell_type": "code",
   "execution_count": null,
   "metadata": {},
   "outputs": [],
   "source": [
    "X_train"
   ]
  },
  {
   "cell_type": "markdown",
   "metadata": {},
   "source": [
    "### Método A) sklearn"
   ]
  },
  {
   "cell_type": "code",
   "execution_count": null,
   "metadata": {},
   "outputs": [],
   "source": [
    "# Create the Linear Regression estimator\n",
    "lm = LinearRegression()\n",
    "\n",
    "# Perform the fitting\n",
    "lm.fit(X_train, y_train)\n",
    "\n",
    "# Print coeficient and intercept of the regression\n",
    "print(lm.intercept_, lm.coef_)"
   ]
  },
  {
   "cell_type": "code",
   "execution_count": null,
   "metadata": {},
   "outputs": [],
   "source": [
    "# Visualizar los resultados\n",
    "y_train_pred = lm.predict(X_train)\n",
    "\n",
    "plt.plot(X_train, y_train, \"o\", alpha=.5)\n",
    "plt.plot(X_test, y_test, \"o\", alpha=.5)\n",
    "plt.plot(X_train, y_train_pred, \"r\")\n"
   ]
  },
  {
   "cell_type": "code",
   "execution_count": null,
   "metadata": {},
   "outputs": [],
   "source": [
    "# Evaluar modelo\n",
    "# Compute Score for training and testing sets \n",
    "# Best possible score is 1.0, lower values are worse.\n",
    "print('Score:')\n",
    "print('\\ttrain:',lm.score(X_train, y_train), 'test:',lm.score(X_test, y_test))\n",
    "\n",
    "# Compute MSE for training and testing sets \n",
    "y_train_pred = lm.predict(X_train)\n",
    "y_test_pred = lm.predict(X_test)\n",
    "\n",
    "mse_train = np.mean((y_train_pred - y_train)**2)\n",
    "mse_test = np.mean((y_test_pred - y_test)**2)\n",
    "print('MSE:')\n",
    "print('\\ttrain:', mse_train, 'test:', mse_test)"
   ]
  },
  {
   "cell_type": "code",
   "execution_count": null,
   "metadata": {},
   "outputs": [],
   "source": [
    "# Evaluar modelo usando métricas de sklearn\n",
    "# Compute Score\n",
    "print('Score:')\n",
    "print('\\t',r2_score(y_train, y_train_pred), r2_score(y_test, y_test_pred))\n",
    "\n",
    "# Compute MSE for training and testing sets \n",
    "print('MSE:')\n",
    "print('\\t',mean_squared_error(y_train_pred, y_train), mean_squared_error(y_test_pred, y_test))"
   ]
  },
  {
   "cell_type": "markdown",
   "metadata": {},
   "source": [
    "### Método B) statsmodel"
   ]
  },
  {
   "cell_type": "code",
   "execution_count": null,
   "metadata": {},
   "outputs": [],
   "source": [
    "# Crear modelo\n",
    "X_train_sm = sm.add_constant(X_train)\n",
    "est = sm.OLS(y_train, X_train_sm) # Creates an object OLS estimator\n",
    "est = est.fit()\n",
    "est.summary()"
   ]
  },
  {
   "cell_type": "code",
   "execution_count": null,
   "metadata": {},
   "outputs": [],
   "source": [
    "# Realizamos predicciones sobre los datos de prueba\n",
    "X_test_sm = sm.add_constant(X_test)\n",
    "y_pred = est.predict(X_test_sm)\n",
    "\n",
    "# Evaluamos la performance del modelo con RMSE y R^2\n",
    "rmse = mean_squared_error(y_test, y_pred, squared=False)  # Raíz del error cuadrático medio\n",
    "r2 = r2_score(y_test, y_pred)  # R^2\n",
    "\n",
    "print(f\"RMSE: {rmse}\")\n",
    "print(f\"R^2: {r2}\")"
   ]
  },
  {
   "cell_type": "markdown",
   "metadata": {},
   "source": [
    "Imprime el resumen de tu regresión e interpreta los resultados. ¿Cuáles son las variables más importantes en tu modelo y por qué? ¿Qué conclusiones puedes sacar de tu modelo y qué tan confiado estás en estas conclusiones? Agrega tus respuestas como comentarios después de tu código."
   ]
  },
  {
   "cell_type": "code",
   "execution_count": null,
   "metadata": {},
   "outputs": [],
   "source": [
    "# Your code here.\n",
    "\n",
    "# Hemos aplicado un modelo de regresión lineal múltiple\n",
    "\n",
    "# Vemos que aplicando el método A) obtenemos el siguiente interceptor y coeficientes para las variables ['Year','Cylinders','Fuel Barrels/Year','City MPG','Fuel Cost/Year']:\n",
    "# [845.33048867] [[-0.37674919  1.77973753 19.74058284 -2.30069737  0.03515074]]\n",
    "\n",
    "# Y la calidad del model: \n",
    "#   Score: 0.9792124403019938\n",
    "#   MSE: 293.8422062096163\n",
    "\n",
    "\n",
    "# Mientras que aplicando el método B) obtenemos:\n",
    "# constante/interceptor: 845.3305\n",
    "# coeficientes:\n",
    "#   x1\t-0.3767\n",
    "#   x2\t1.7797\n",
    "#   x3\t19.7406\n",
    "#   x4\t-2.3007\n",
    "#   x5\t0.0352\n",
    "\n",
    "# Y la calidad del modelo es:\n",
    "#   R^2: 0.979\n",
    "#   RMSE: 16.107397430886067\n",
    "\n",
    "# Creo que el modelo no es demasiado bueno porque el MSE es muy alto. Es posible que podamos generar un modelo mejor seleccionando mejor las \n",
    "#  variables que usamos para la predicción (e.g. eliminando 'Fuel Cost/Year', que según los resultados (0.0352) tiene poco efecto en la predicción y\n",
    "#  que además ya vimos en la matriz de correlación que tiene una alta correlación con 'Fuel Barrels/Year')\n"
   ]
  },
  {
   "cell_type": "markdown",
   "metadata": {},
   "source": [
    "## Desafío Extra: Análisis de Errores\n",
    "\n",
    "Estoy sospechando de las últimas fiestas que he organizado: parece que cuanto más gente invito, más personas no pueden asistir. Para saber si mi presentimiento está respaldado por los datos, he decidido hacer un análisis. He recopilado mis datos en la tabla a continuación, donde X es el número de personas que invité, y Y es el número de personas que asistieron.\n",
    "\n",
    "|  X |  Y |\n",
    "|----|----|\n",
    "| 1  |  1 |\n",
    "| 3  |  2 |\n",
    "| 4  |  4 |\n",
    "| 6  |  4 |\n",
    "| 8  |  5 |\n",
    "| 9  |  7 |\n",
    "| 11 |  8 |\n",
    "| 14 |  13 |\n",
    "\n",
    "Queremos saber si la relación modelada por las dos variables aleatorias es lineal o no, y por lo tanto, si es apropiado modelarla con una regresión lineal.\n",
    "Primero, construye un dataframe con los datos."
   ]
  },
  {
   "cell_type": "code",
   "execution_count": null,
   "metadata": {},
   "outputs": [],
   "source": [
    "# Your code here.\n",
    "invitados = pd.DataFrame({'X': [1,3,4,6,8,9,11,14], 'Y': [1,2,4,4,5,7,8,13]})\n",
    "invitados"
   ]
  },
  {
   "cell_type": "markdown",
   "metadata": {},
   "source": [
    "Dibuja un diagrama de dispersión (scatter plot) para los datos y ajusta una línea de regresión."
   ]
  },
  {
   "cell_type": "code",
   "execution_count": null,
   "metadata": {},
   "outputs": [],
   "source": [
    "# Your code here.\n",
    "X = invitados.X.values.reshape(-1, 1)\n",
    "y = invitados.Y.values\n",
    "\n",
    "# Graficar relación entre variables\n",
    "#plt.plot(X, y, \"o\", alpha=.5)\n",
    "\n",
    "# Modelo\n",
    "X_train, X_test, y_train, y_test = train_test_split(X, y, test_size=.2)\n",
    "\n",
    "# Check train and test sizes\n",
    "print(X.shape, X_train.shape, X_test.shape)\n",
    "print(y.shape, y_train.shape, y_test.shape)\n",
    "\n",
    "# Create the Linear Regression estimator\n",
    "lm = LinearRegression()\n",
    "\n",
    "# Perform the fitting\n",
    "lm.fit(X_train, y_train)\n",
    "\n",
    "# Print coefs\n",
    "print(lm.intercept_, lm.coef_)\n",
    "\n",
    "# Define xmin xmax for the model:\n",
    "xmin, xmax = round(X.min()), round(X.max())\n",
    "\n",
    "x_model = np.arange(xmin, xmax+1)\n",
    "y_model=[lm.intercept_+lm.coef_*x for x in x_model] # np.arange returns evenly spaced values within a given interval.\n",
    "\n",
    "plt.plot(X_train, y_train, \"o\", alpha=0.5, label=\"train\") # alpha, transparency value, between 0 (transparent) and 1 (opaque).\n",
    "plt.plot(X_test, y_test, \"o\", alpha=0.5, label=\"test\") # alpha, transparency value, between 0 (transparent) and 1 (opaque).\n",
    "plt.plot(x_model, y_model,'r'); \n",
    "\n",
    "plt.legend()\n",
    "plt.show()\n",
    "# The red line gives the predicted values of this model\n",
    "\n",
    "# Evaluar modelo\n",
    "# Compute Score for training and testing sets \n",
    "# Best possible score is 1.0, lower values are worse.\n",
    "print('Score:')\n",
    "print('\\ttrain:',lm.score(X_train, y_train), 'test:',lm.score(X_test, y_test))\n",
    "\n",
    "# Compute MSE for training and testing sets \n",
    "y_train_pred = lm.predict(X_train)\n",
    "y_test_pred = lm.predict(X_test)\n",
    "\n",
    "mse_train = np.mean((y_train_pred - y_train)**2)\n",
    "mse_test = np.mean((y_test_pred - y_test)**2)\n",
    "print('MSE:')\n",
    "print('\\ttrain:', mse_train, 'test:', mse_test)"
   ]
  },
  {
   "cell_type": "markdown",
   "metadata": {},
   "source": [
    "¿Qué ves? ¿Qué te indica este gráfico sobre la probable relación entre las variables? Imprime los resultados de tu regresión."
   ]
  },
  {
   "cell_type": "markdown",
   "metadata": {},
   "source": [
    "**RESPUESTA:** Ambas variables tienen una relación lineal."
   ]
  },
  {
   "cell_type": "markdown",
   "metadata": {},
   "source": [
    "¿Ves algún punto problemático o valores atípicos en tus datos? Elimina estos puntos y recalcula tu regresión. Imprime el nuevo diagrama de dispersión con tu nuevo modelo y los resultados de tu modelo."
   ]
  },
  {
   "cell_type": "code",
   "execution_count": null,
   "metadata": {},
   "outputs": [],
   "source": [
    "# Your response here.\n",
    "\n",
    "# Los valores extremos son problemáticos: \n",
    "#   por la banda baja, lo más probable cuando invitamos a 1 persona es que estemos seguros de que va a poder venir; \n",
    "#   por la banda alta, una asistencia 13 de 14 es probablemente inususal (valor atípico);\n",
    "invitados_prima = invitados[(invitados['X']<14)]\n",
    "invitados_prima"
   ]
  },
  {
   "cell_type": "code",
   "execution_count": null,
   "metadata": {},
   "outputs": [],
   "source": [
    "X = invitados_prima.X.values.reshape(-1, 1)\n",
    "y = invitados_prima.Y.values\n",
    "\n",
    "# Graficar relación entre variables\n",
    "#plt.plot(X, y, \"o\", alpha=.5)\n",
    "\n",
    "# Modelo\n",
    "X_train, X_test, y_train, y_test = train_test_split(X, y, test_size=.2)\n",
    "\n",
    "# Check train and test sizes\n",
    "print(X.shape, X_train.shape, X_test.shape)\n",
    "print(y.shape, y_train.shape, y_test.shape)\n",
    "\n",
    "# Create the Linear Regression estimator\n",
    "lm = LinearRegression()\n",
    "\n",
    "# Perform the fitting\n",
    "lm.fit(X_train, y_train)\n",
    "\n",
    "# Print coefs\n",
    "print(lm.intercept_, lm.coef_)\n",
    "\n",
    "# Define xmin xmax for the model:\n",
    "xmin, xmax = round(X.min()), round(X.max())\n",
    "\n",
    "x_model = np.arange(xmin, xmax+1)\n",
    "y_model=[lm.intercept_+lm.coef_*x for x in x_model] # np.arange returns evenly spaced values within a given interval.\n",
    "\n",
    "plt.plot(X_train, y_train, \"o\", alpha=0.5, label=\"train\") # alpha, transparency value, between 0 (transparent) and 1 (opaque).\n",
    "plt.plot(X_test, y_test, \"o\", alpha=0.5, label=\"test\") # alpha, transparency value, between 0 (transparent) and 1 (opaque).\n",
    "plt.plot(x_model, y_model,'r'); \n",
    "\n",
    "plt.legend()\n",
    "plt.show()\n",
    "# The red line gives the predicted values of this model\n",
    "\n",
    "# Evaluar modelo\n",
    "# Compute Score for training and testing sets \n",
    "# Best possible score is 1.0, lower values are worse.\n",
    "print('Score:')\n",
    "print('\\ttrain:',lm.score(X_train, y_train), 'test:',lm.score(X_test, y_test))\n",
    "\n",
    "# Compute MSE for training and testing sets \n",
    "y_train_pred = lm.predict(X_train)\n",
    "y_test_pred = lm.predict(X_test)\n",
    "\n",
    "mse_train = np.mean((y_train_pred - y_train)**2)\n",
    "mse_test = np.mean((y_test_pred - y_test)**2)\n",
    "print('MSE:')\n",
    "print('\\ttrain:', mse_train, 'test:', mse_test)"
   ]
  },
  {
   "cell_type": "markdown",
   "metadata": {},
   "source": [
    "¿Qué cambió? Basado en los resultados de los dos modelos y tus gráficos, ¿qué puedes decir sobre la forma de los datos con el punto problemático y sin él?"
   ]
  },
  {
   "cell_type": "markdown",
   "metadata": {},
   "source": [
    "**RESPUESTA:** Ahora el modelo tiene mayor fiabilidad (0,95) mientras que el error cuadrático medio se mantiene bajo."
   ]
  }
 ],
 "metadata": {
  "kernelspec": {
   "display_name": "base",
   "language": "python",
   "name": "python3"
  },
  "language_info": {
   "codemirror_mode": {
    "name": "ipython",
    "version": 3
   },
   "file_extension": ".py",
   "mimetype": "text/x-python",
   "name": "python",
   "nbconvert_exporter": "python",
   "pygments_lexer": "ipython3",
   "version": "3.12.4"
  }
 },
 "nbformat": 4,
 "nbformat_minor": 2
}
